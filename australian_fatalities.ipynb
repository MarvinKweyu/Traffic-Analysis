{
 "cells": [
  {
   "cell_type": "markdown",
   "metadata": {},
   "source": [
    "__TITLE__:\n",
    "\n",
    "__Intoduction__\n",
    "The website is structured as below:\n",
    "The main `index.html` file is located in the root directory with the individual analysis folders in a different`analysis_pages` folder.\n",
    "The analysis is a comparison between road fatality in 1989 and 2017 with bar graphs being dran to match the respective time periods.\n",
    "\n",
    "**Website Overview**\n",
    "-Fatality comparison in months\n",
    "-Fatality comparison in states\n",
    "-Fatality comparison according to crash type"
   ]
  },
  {
   "cell_type": "code",
   "execution_count": 1,
   "metadata": {},
   "outputs": [],
   "source": [
    "\n",
    "# import neccessay libraries\n",
    "import pandas as pd\n",
    "from bokeh.io import output_file\n",
    "from bokeh.io import save\n",
    "from bokeh.plotting import figure\n",
    "from bokeh.models import FactorRange\n",
    "from bokeh.models import ColumnDataSource\n",
    "from bokeh.transform import factor_cmap\n",
    "\n"
   ]
  },
  {
   "cell_type": "code",
   "execution_count": 2,
   "metadata": {},
   "outputs": [],
   "source": [
    "\n",
    "df = pd.read_csv('FatalitiesMarch2018.csv')\n",
    "\n",
    "\n",
    "# get 2017 and 1989 data\n",
    "df_categorized = df.groupby('Year')\n",
    "df_2017 = df_categorized.get_group(2017)\n",
    "df_1989 = df_categorized.get_group(1989)\n"
   ]
  },
  {
   "cell_type": "code",
   "execution_count": 3,
   "metadata": {},
   "outputs": [],
   "source": [
    "# filter the results for 1989 and 2017\n",
    "import csv\n",
    "\n",
    "\n",
    "def compare_data(column_name):\n",
    "    \"\"\"Compare data from 1989 with 2017.Takes a comlumn name to compare.\n",
    "    Writes summary statistics to a csv from which it creates HTML content\"\"\"\n",
    "\n",
    "\n",
    "    df_2017_fatalities = df_2017.groupby(column_name)\n",
    "    df_1989_fatalities = df_1989.groupby(column_name)\n",
    "    # complete 1989 against data so far collected this year(2017 in this case)\n",
    "    last_complete_year = df_2017[column_name].unique().tolist()\n",
    "\n",
    "    state_fatality_2017 = []\n",
    "    state_fatality_1989 = []\n",
    "\n",
    "    for item in range(len(last_complete_year)):\n",
    "        state_fatality_2017.append(\n",
    "            len(df_2017_fatalities.get_group(last_complete_year[item])))\n",
    "        state_fatality_1989.append(\n",
    "            len(df_1989_fatalities.get_group(last_complete_year[item])))\n",
    "    \n",
    "\n",
    "    #write summary statistic on each year\n",
    "    with open( column_name+'_summary.csv', mode='w') as summary_file:\n",
    "        summary_writer = csv.writer(summary_file, delimiter=',', quotechar='\"', quoting=csv.QUOTE_MINIMAL)\n",
    "\n",
    "        summary_writer.writerow(['2017 maximum fatality:',max(state_fatality_2017)])\n",
    "        summary_writer.writerow(['1989 maximum fatality:',max(state_fatality_1989)])\n",
    "\n",
    "    # summary_stat = column_name + '.'\n",
    "    dataset = [last_complete_year, state_fatality_2017, state_fatality_1989]\n",
    "\n",
    "    return dataset\n",
    "\n",
    "\n",
    "def draw_bar_chart(specific_data,year2017,year1989, title):\n",
    "    \"\"\"Draw a bar chart for the two selected years.\"\"\"\n",
    "\n",
    "#     months = unique2017.tolist()\n",
    "    years = ['1989', '2017']\n",
    "    # dataset_try = dataset[0]\n",
    "    data = {\n",
    "        'dataset': specific_data,\n",
    "        '1989': year1989,\n",
    "        '2017': year2017\n",
    "    }\n",
    "\n",
    "    # create comparison between year and item [(item,'1989'),(item,2017) ..]\n",
    "    x = [(item, year) for item in specific_data for year in years]\n",
    "\n",
    "    counts = sum(zip(data['1989'], data['2017']), ())  # like an hstack\n",
    "    source = ColumnDataSource(data=dict(x=x, counts=counts))\n",
    "\n",
    "    p = figure(x_range=FactorRange(*x), plot_height=250, title=title)\n",
    "\n",
    "    p.vbar(x='x', top='counts', width=0.9, source=source, line_color=\"white\",\n",
    "           fill_color=factor_cmap('x', palette=['firebrick', 'blue'], factors=years, start=1, end=2))\n",
    "\n",
    "    p.y_range.start = 0\n",
    "    p.x_range.range_padding = 0.05\n",
    "    p.xaxis.major_label_orientation = 1\n",
    "    p.xgrid.grid_line_color = None\n",
    "\n",
    "    output_file(title+ '.html')\n",
    "    save(p)\n",
    "    print(\"Done\")\n",
    "\n",
    "\n"
   ]
  },
  {
   "cell_type": "code",
   "execution_count": 4,
   "metadata": {},
   "outputs": [
    {
     "name": "stdout",
     "output_type": "stream",
     "text": [
      "Done\n"
     ]
    }
   ],
   "source": [
    "\n",
    "# fatality comparison in months\n",
    "dataset = compare_data('Month')\n",
    "specific_data = dataset[0]\n",
    "year2017 = dataset[1]\n",
    "year1989 = dataset[2]\n",
    "title = \"Monthly_Fatality\"\n",
    "# draw chart for month\n",
    "draw_bar_chart(specific_data,year2017,year1989,title)"
   ]
  },
  {
   "cell_type": "code",
   "execution_count": 5,
   "metadata": {},
   "outputs": [
    {
     "name": "stdout",
     "output_type": "stream",
     "text": [
      "Done\n"
     ]
    }
   ],
   "source": [
    "# fatality comparison in state\n",
    "dataset = compare_data('State')\n",
    "\n",
    "specific_data = dataset[0]\n",
    "year2017 = dataset[1]\n",
    "year1989 = dataset[2]\n",
    "title = \"Fatalities_according_to_state\"\n",
    "# draw chart for state\n",
    "draw_bar_chart(specific_data, year2017, year1989,title)"
   ]
  },
  {
   "cell_type": "code",
   "execution_count": 6,
   "metadata": {},
   "outputs": [
    {
     "name": "stdout",
     "output_type": "stream",
     "text": [
      "Done\n"
     ]
    }
   ],
   "source": [
    "# Fatality comparison according to crash type\n",
    "dataset = compare_data('Crash_Type')\n",
    "\n",
    "specific_data = dataset[0]\n",
    "year2017 = dataset[1]\n",
    "year1989 = dataset[2]\n",
    "title = \"Fatalities_in_crash_type\"\n",
    "# draw chart for crash type\n",
    "draw_bar_chart(specific_data, year2017, year1989,title)\n"
   ]
  },
  {
   "cell_type": "code",
   "execution_count": null,
   "metadata": {},
   "outputs": [],
   "source": []
  }
 ],
 "metadata": {
  "file_extension": ".py",
  "kernelspec": {
   "display_name": "Python 3",
   "language": "python",
   "name": "python3"
  },
  "language_info": {
   "codemirror_mode": {
    "name": "ipython",
    "version": 3
   },
   "file_extension": ".py",
   "mimetype": "text/x-python",
   "name": "python",
   "nbconvert_exporter": "python",
   "pygments_lexer": "ipython3",
   "version": "3.7.3"
  },
  "mimetype": "text/x-python",
  "name": "python",
  "npconvert_exporter": "python",
  "pygments_lexer": "ipython3",
  "version": 3
 },
 "nbformat": 4,
 "nbformat_minor": 2
}
